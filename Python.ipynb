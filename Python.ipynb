{
  "nbformat": 4,
  "nbformat_minor": 0,
  "metadata": {
    "colab": {
      "provenance": [],
      "authorship_tag": "ABX9TyPQr8S9PZbs2Gm5/WPGWHuu",
      "include_colab_link": true
    },
    "kernelspec": {
      "name": "python3",
      "display_name": "Python 3"
    },
    "language_info": {
      "name": "python"
    }
  },
  "cells": [
    {
      "cell_type": "markdown",
      "metadata": {
        "id": "view-in-github",
        "colab_type": "text"
      },
      "source": [
        "<a href=\"https://colab.research.google.com/github/marinanteng/Codigo-Metodo/blob/main/Python.ipynb\" target=\"_parent\"><img src=\"https://colab.research.google.com/assets/colab-badge.svg\" alt=\"Open In Colab\"/></a>"
      ]
    },
    {
      "cell_type": "code",
      "source": [
        "def integral_trapezio_composto(f, a, b, m):\n",
        "    h = (b - a) / m\n",
        "    soma = f(a) + f(b)\n",
        "\n",
        "    for i in range(1, m):\n",
        "        xi = a + i * h\n",
        "        soma += 2 * f(xi)\n",
        "\n",
        "    return (h / 2) * soma\n",
        "\n",
        "\n",
        "def g(x):\n",
        "    return (45 * x + 135) / (((x + 3)**2 + 5)**(3/2))\n",
        "\n",
        "def j(y):\n",
        "    return (45 * y - 180) / (((y - 4)**2 + 2)**(3/2))\n",
        "\n",
        "def k(y):\n",
        "  return 36/(y-1)\n",
        "\n",
        "def l(z):\n",
        "    return 45 * z / ((2 + z**2)**(3/2))\n",
        "\n",
        "def n(z):\n",
        "    return 36 * (z - 1) / (16 + (z - 1)**2)\n",
        "\n",
        "\n",
        "\n",
        "\n",
        "resultadog = integral_trapezio_composto(g, 1, -2, 1000000)\n",
        "print(\"O resultado da integral por trapézio composto é:\", resultadog)\n",
        "resultadoj = integral_trapezio_composto(j, 2, 5, 1000000)\n",
        "print(\"O resultado da integral por trapézio composto é:\", resultadoj)\n",
        "resultadok = integral_trapezio_composto(k, 2, 5, 1000000)\n",
        "print(\"O resultado da integral por trapézio composto é:\", resultadok)\n",
        "resultadol = integral_trapezio_composto(l, 1, 3, 1000000)\n",
        "print(\"O resultado da integral por trapézio composto é:\", resultadol)\n",
        "resultadon = integral_trapezio_composto(n, 1, 3, 1000000)\n",
        "print(\"O resultado da integral por trapézio composto é:\", resultadon)\n",
        "\n",
        "\n",
        "\n",
        "\n",
        "\n",
        "\n",
        "\n",
        "\n",
        "\n"
      ],
      "metadata": {
        "colab": {
          "base_uri": "https://localhost:8080/"
        },
        "id": "ImyWZjnEpz5U",
        "outputId": "c3863e45-2a2e-4588-dc20-3470ce20037f"
      },
      "execution_count": 2,
      "outputs": [
        {
          "output_type": "stream",
          "name": "stdout",
          "text": [
            "O resultado da integral por trapézio composto é: -8.551368010252538\n",
            "O resultado da integral por trapézio composto é: -7.609589042656694\n",
            "O resultado da integral por trapézio composto é: 49.90659700034246\n",
            "O resultado da integral por trapézio composto é: 12.41275160753325\n",
            "O resultado da integral por trapézio composto é: 4.0165839236554\n"
          ]
        }
      ]
    }
  ]
}